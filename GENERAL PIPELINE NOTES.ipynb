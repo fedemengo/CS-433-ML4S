{
 "cells": [
  {
   "cell_type": "markdown",
   "metadata": {},
   "source": [
    "## Pipeline\n",
    "...\n",
    "#### select_subjects.py\n",
    "concatenates 4D volumes within every subject, runs GLM and selects voxel with most activation within F-stat map in an atlas. For motor we used Mayka, M.A., Corcos, D.M., Leurgans, S.E., Vaillancourt, D.E. 2006. Three-dimensional locations and boundaries of motor and premotor cortices as defined by functional brain imaging: a meta-analysis. Neuroimage. 31(4):1453-1474.\n",
    ". \n",
    "Outputs:\n",
    "    - data/derivatives/sorted_subjects_motor.csv : ordered list with subjects with most activation according to atlas\n",
    "    - 4D concatenated volumes for every subject\n",
    "    - Fmaps\n",
    "    - Fmaps thresholded\n",
    "    - pdf in data/derivatives with all the fmap plots for subjects\n",
    "    \n",
    "#### obtain_dataset.py\n",
    "generates the dataset to use as input for the rnn. shape is as follows:\n",
    "'''\n",
    "<xarray.Dataset>\n",
    "Dimensions:       (subject: n, voxel: 1959, time: 284)\n",
    "Coordinates:\n",
    "  * subject        (subject) int64 118932_RL 118933_LR 118934_RL ... \n",
    "  * voxel          (voxel) int64 0 1 2 3 4 ... 1958\n",
    "  * time           (time) int64 0 1 2 3 4 ... 283\n",
    "Data variables:\n",
    "    X              (subject, voxel, time) float32 ...\n",
    "    Y              (subject, voxel, time) float32 ...\n",
    "Attributes:\n",
    "    description:   Dataset for subject 118932, task MOTOR, acquisition RL\n",
    "'''"
   ]
  }
 ],
 "metadata": {
  "kernelspec": {
   "display_name": "Python 3 (ipykernel)",
   "language": "python",
   "name": "python3"
  },
  "language_info": {
   "codemirror_mode": {
    "name": "ipython",
    "version": 3
   },
   "file_extension": ".py",
   "mimetype": "text/x-python",
   "name": "python",
   "nbconvert_exporter": "python",
   "pygments_lexer": "ipython3",
   "version": "3.8.10"
  }
 },
 "nbformat": 4,
 "nbformat_minor": 4
}
